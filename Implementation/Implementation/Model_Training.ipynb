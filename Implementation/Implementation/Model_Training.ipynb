{
 "cells": [
  {
   "cell_type": "code",
   "execution_count": 1,
   "id": "d0fa8fe6-45f0-4bf8-be94-2ceb6726a0b2",
   "metadata": {},
   "outputs": [
    {
     "name": "stdout",
     "output_type": "stream",
     "text": [
      "Requirement already satisfied: imbalanced-learn in c:\\users\\user\\appdata\\local\\programs\\python\\python38\\lib\\site-packages (0.8.0)\n",
      "Requirement already satisfied: scikit-learn>=0.24 in c:\\users\\user\\appdata\\local\\programs\\python\\python38\\lib\\site-packages (from imbalanced-learn) (0.24.2)\n",
      "Requirement already satisfied: scipy>=0.19.1 in c:\\users\\user\\appdata\\local\\programs\\python\\python38\\lib\\site-packages (from imbalanced-learn) (1.5.2)\n",
      "Requirement already satisfied: joblib>=0.11 in c:\\users\\user\\appdata\\local\\programs\\python\\python38\\lib\\site-packages (from imbalanced-learn) (0.17.0)\n",
      "Requirement already satisfied: numpy>=1.13.3 in c:\\users\\user\\appdata\\local\\programs\\python\\python38\\lib\\site-packages (from imbalanced-learn) (1.19.2)\n",
      "Requirement already satisfied: threadpoolctl>=2.0.0 in c:\\users\\user\\appdata\\local\\programs\\python\\python38\\lib\\site-packages (from scikit-learn>=0.24->imbalanced-learn) (2.1.0)\n",
      "Note: you may need to restart the kernel to use updated packages.\n"
     ]
    },
    {
     "name": "stderr",
     "output_type": "stream",
     "text": [
      "WARNING: You are using pip version 21.1.1; however, version 21.1.3 is available.\n",
      "You should consider upgrading via the 'c:\\users\\user\\appdata\\local\\programs\\python\\python38\\python.exe -m pip install --upgrade pip' command.\n"
     ]
    }
   ],
   "source": [
    "pip install -U imbalanced-learn"
   ]
  },
  {
   "cell_type": "code",
   "execution_count": 2,
   "id": "homeless-obligation",
   "metadata": {},
   "outputs": [],
   "source": [
    "import numpy as np\n",
    "import pandas as pd\n",
    "from urllib.parse import urlparse\n",
    "import tld\n",
    "from tld import get_tld\n",
    "import os.path\n",
    "import scipy as sp\n",
    "import re"
   ]
  },
  {
   "cell_type": "code",
   "execution_count": 3,
   "id": "established-queen",
   "metadata": {},
   "outputs": [],
   "source": [
    "from sklearn.feature_extraction.text import TfidfVectorizer"
   ]
  },
  {
   "cell_type": "code",
   "execution_count": 4,
   "id": "grand-light",
   "metadata": {},
   "outputs": [],
   "source": [
    "urldata = pd.read_csv(\"all_data_featured_merged.csv\")"
   ]
  },
  {
   "cell_type": "code",
   "execution_count": 5,
   "id": "local-fishing",
   "metadata": {},
   "outputs": [],
   "source": [
    "# urldata = urldata.drop(\"Unnamed: 0\",axis=1)"
   ]
  },
  {
   "cell_type": "code",
   "execution_count": 6,
   "id": "exceptional-heather",
   "metadata": {},
   "outputs": [],
   "source": [
    "def processing(url):\n",
    "    tokens_slash = str(url.encode('utf-8')).split('/')# make tokens after splitting by slash\n",
    "    total_Tokens = []\n",
    "    for i in tokens_slash:\n",
    "        tokens = str(i).split('-')# make tokens after splitting by dash\n",
    "        tokens_dot = []\n",
    "        for j in range(0,len(tokens)):\n",
    "            temp_Tokens = str(tokens[j]).split('.')# make tokens after splitting by dot\n",
    "            tokens_dot = tokens_dot + temp_Tokens\n",
    "        total_Tokens = total_Tokens + tokens + tokens_dot\n",
    "    finaltest = list(set(total_Tokens))#remove redundant tokens\n",
    "    return finaltest"
   ]
  },
  {
   "cell_type": "code",
   "execution_count": 7,
   "id": "existing-criticism",
   "metadata": {},
   "outputs": [],
   "source": [
    "vectorizer = TfidfVectorizer(tokenizer=processing)"
   ]
  },
  {
   "cell_type": "code",
   "execution_count": 8,
   "id": "automatic-burke",
   "metadata": {},
   "outputs": [],
   "source": [
    "X = vectorizer.fit_transform(urldata['url'])"
   ]
  },
  {
   "cell_type": "code",
   "execution_count": 9,
   "id": "earned-fitness",
   "metadata": {},
   "outputs": [],
   "source": [
    "features = sp.sparse.csr_matrix(urldata[['url_length', 'hostname_length',\n",
    "       'path_length', 'fd_length', 'tld_length', 'count@', 'count?',\n",
    "       'count%', 'count=', 'count-http', 'count-digits',\n",
    "       'count-letters', 'count_dir', 'use_of_ip', 'short_url']].values)"
   ]
  },
  {
   "cell_type": "code",
   "execution_count": 10,
   "id": "capable-record",
   "metadata": {},
   "outputs": [],
   "source": [
    "from scipy.sparse import hstack"
   ]
  },
  {
   "cell_type": "code",
   "execution_count": 11,
   "id": "thermal-medicine",
   "metadata": {},
   "outputs": [],
   "source": [
    "testing = hstack([X, features])"
   ]
  },
  {
   "cell_type": "code",
   "execution_count": 12,
   "id": "aging-hundred",
   "metadata": {},
   "outputs": [],
   "source": [
    "Y = urldata['label']"
   ]
  },
  {
   "cell_type": "code",
   "execution_count": 13,
   "id": "premium-characteristic",
   "metadata": {},
   "outputs": [],
   "source": [
    "from sklearn.ensemble import RandomForestClassifier\n",
    "from sklearn.model_selection import train_test_split\n",
    "from sklearn.metrics import confusion_matrix,classification_report,accuracy_score"
   ]
  },
  {
   "cell_type": "code",
   "execution_count": 14,
   "id": "irish-daughter",
   "metadata": {},
   "outputs": [],
   "source": [
    "rfc = RandomForestClassifier(max_depth= 20)"
   ]
  },
  {
   "cell_type": "code",
   "execution_count": 15,
   "id": "promotional-internet",
   "metadata": {},
   "outputs": [],
   "source": [
    "x_train, x_test, y_train, y_test = train_test_split(testing, Y, train_size=0.3, random_state=42)"
   ]
  },
  {
   "cell_type": "code",
   "execution_count": 16,
   "id": "72155702-e144-4815-af41-1b5b5b73b482",
   "metadata": {},
   "outputs": [
    {
     "name": "stdout",
     "output_type": "stream",
     "text": [
      "Before:  Counter({'benign': 114176, 'malicious': 67435})\n",
      "After:  Counter({'malicious': 114176, 'benign': 114176})\n"
     ]
    }
   ],
   "source": [
    "from collections import Counter\n",
    "\n",
    "counter = Counter(y_train)\n",
    "print(\"Before: \",counter)\n",
    "\n",
    "from imblearn.over_sampling import SMOTE\n",
    "#Oversampling the data\n",
    "smote = SMOTE(random_state = 42)\n",
    "\n",
    "X, y = smote.fit_resample(x_train, y_train)\n",
    "\n",
    "counter = Counter(y)\n",
    "print(\"After: \",counter)"
   ]
  },
  {
   "cell_type": "code",
   "execution_count": 17,
   "id": "found-salad",
   "metadata": {},
   "outputs": [
    {
     "data": {
      "text/plain": [
       "RandomForestClassifier(max_depth=20)"
      ]
     },
     "execution_count": 17,
     "metadata": {},
     "output_type": "execute_result"
    }
   ],
   "source": [
    "rfc.fit(X,y)"
   ]
  },
  {
   "cell_type": "code",
   "execution_count": 18,
   "id": "entertaining-westminster",
   "metadata": {},
   "outputs": [],
   "source": [
    "pred_results = rfc.predict(x_test)"
   ]
  },
  {
   "cell_type": "code",
   "execution_count": 19,
   "id": "fourth-party",
   "metadata": {},
   "outputs": [
    {
     "data": {
      "text/plain": [
       "0.9424979764441581"
      ]
     },
     "execution_count": 19,
     "metadata": {},
     "output_type": "execute_result"
    }
   ],
   "source": [
    "accuracy_score(y_test,pred_results)"
   ]
  },
  {
   "cell_type": "code",
   "execution_count": 20,
   "id": "f3c11ca6-e6c5-4c59-aab2-94a6ab2dca8b",
   "metadata": {},
   "outputs": [
    {
     "data": {
      "text/plain": [
       "array([[251174,  15766],\n",
       "       [  8601, 148218]], dtype=int64)"
      ]
     },
     "execution_count": 20,
     "metadata": {},
     "output_type": "execute_result"
    }
   ],
   "source": [
    "confusion_matrix(y_test, pred_results)"
   ]
  },
  {
   "cell_type": "code",
   "execution_count": 21,
   "id": "clinical-thesis",
   "metadata": {},
   "outputs": [
    {
     "name": "stdout",
     "output_type": "stream",
     "text": [
      "              precision    recall  f1-score   support\n",
      "\n",
      "      benign      0.967     0.941     0.954    266940\n",
      "   malicious      0.904     0.945     0.924    156819\n",
      "\n",
      "    accuracy                          0.942    423759\n",
      "   macro avg      0.935     0.943     0.939    423759\n",
      "weighted avg      0.944     0.942     0.943    423759\n",
      "\n"
     ]
    }
   ],
   "source": [
    "print(classification_report(y_test,pred_results,digits=3))"
   ]
  },
  {
   "cell_type": "code",
   "execution_count": null,
   "id": "a2700cb5",
   "metadata": {},
   "outputs": [],
   "source": []
  },
  {
   "cell_type": "code",
   "execution_count": null,
   "metadata": {},
   "outputs": [],
   "source": []
  },
  {
   "cell_type": "code",
   "execution_count": 22,
   "id": "7bf0c867-0529-4c5a-872f-40632c457b9d",
   "metadata": {},
   "outputs": [
    {
     "data": {
      "text/plain": [
       "['tfidfvectorizer.pkl']"
      ]
     },
     "execution_count": 22,
     "metadata": {},
     "output_type": "execute_result"
    }
   ],
   "source": [
    "import joblib\n",
    "joblib.dump(vectorizer, 'tfidfvectorizer.pkl')"
   ]
  },
  {
   "cell_type": "code",
   "execution_count": 23,
   "id": "wooden-involvement",
   "metadata": {},
   "outputs": [
    {
     "data": {
      "text/plain": [
       "['tfidfModel.pkl']"
      ]
     },
     "execution_count": 23,
     "metadata": {},
     "output_type": "execute_result"
    }
   ],
   "source": [
    "joblib.dump(rfc, 'tfidfModel.pkl')"
   ]
  },
  {
   "cell_type": "code",
   "execution_count": null,
   "id": "narrative-carrier",
   "metadata": {},
   "outputs": [],
   "source": []
  }
 ],
 "metadata": {
  "kernelspec": {
   "display_name": "Python 3",
   "language": "python",
   "name": "python3"
  },
  "language_info": {
   "codemirror_mode": {
    "name": "ipython",
    "version": 3
   },
   "file_extension": ".py",
   "mimetype": "text/x-python",
   "name": "python",
   "nbconvert_exporter": "python",
   "pygments_lexer": "ipython3",
   "version": "3.8.5"
  },
  "widgets": {
   "state": {},
   "version": "1.1.2"
  }
 },
 "nbformat": 4,
 "nbformat_minor": 5
}
