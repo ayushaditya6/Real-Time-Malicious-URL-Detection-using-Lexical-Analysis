{
 "cells": [
  {
   "cell_type": "code",
   "execution_count": 1,
   "id": "affecting-tennessee",
   "metadata": {},
   "outputs": [],
   "source": [
    "import  process as p\n",
    "import sklearn.externals\n",
    "import joblib\n",
    "import scipy as sp\n",
    "from scipy.sparse import hstack\n",
    "import sys\n",
    "sys.modules['sklearn.externals.joblib'] = joblib"
   ]
  },
  {
   "cell_type": "code",
   "execution_count": 3,
   "id": "073c0b2d-08f2-46e4-98b1-9892f6bdbea3",
   "metadata": {},
   "outputs": [
    {
     "name": "stdout",
     "output_type": "stream",
     "text": [
      "0.24.2\n"
     ]
    }
   ],
   "source": [
    "import sklearn\n",
    "print(sklearn.__version__)"
   ]
  },
  {
   "cell_type": "code",
   "execution_count": 2,
   "id": "little-queensland",
   "metadata": {},
   "outputs": [
    {
     "data": {
      "text/plain": [
       "{'bootstrap': True,\n",
       " 'ccp_alpha': 0.0,\n",
       " 'class_weight': None,\n",
       " 'criterion': 'gini',\n",
       " 'max_depth': None,\n",
       " 'max_features': 'auto',\n",
       " 'max_leaf_nodes': None,\n",
       " 'max_samples': None,\n",
       " 'min_impurity_decrease': 0.0,\n",
       " 'min_impurity_split': None,\n",
       " 'min_samples_leaf': 1,\n",
       " 'min_samples_split': 2,\n",
       " 'min_weight_fraction_leaf': 0.0,\n",
       " 'n_estimators': 100,\n",
       " 'n_jobs': None,\n",
       " 'oob_score': False,\n",
       " 'random_state': None,\n",
       " 'verbose': 0,\n",
       " 'warm_start': False}"
      ]
     },
     "execution_count": 2,
     "metadata": {},
     "output_type": "execute_result"
    }
   ],
   "source": [
    "rfc = joblib.load(\"tfidfModel.pkl\")\n",
    "rfc.get_params()"
   ]
  },
  {
   "cell_type": "code",
   "execution_count": null,
   "id": "59ece1c9-e3a1-4cf4-9e05-12d13446f533",
   "metadata": {},
   "outputs": [],
   "source": []
  },
  {
   "cell_type": "code",
   "execution_count": null,
   "id": "d2da7148-8cda-435d-8936-55081d30203b",
   "metadata": {},
   "outputs": [],
   "source": []
  },
  {
   "cell_type": "code",
   "execution_count": 3,
   "id": "printable-brain",
   "metadata": {},
   "outputs": [],
   "source": [
    "def processing(url):\n",
    "    \n",
    "    tokens_slash = str(url.encode('utf-8')).split('/')# make tokens after splitting by slash\n",
    "    total_Tokens = []\n",
    "    for i in tokens_slash:\n",
    "        tokens = str(i).split('-')# make tokens after splitting by dash\n",
    "        tokens_dot = []\n",
    "        for j in range(0,len(tokens)):\n",
    "            temp_Tokens = str(tokens[j]).split('.')# make tokens after splitting by dot\n",
    "            tokens_dot = tokens_dot + temp_Tokens\n",
    "        total_Tokens = total_Tokens + tokens + tokens_dot\n",
    "    finaltest = list(set(total_Tokens))#remove redundant tokens\n",
    "    return finaltest "
   ]
  },
  {
   "cell_type": "code",
   "execution_count": 4,
   "id": "arranged-bibliography",
   "metadata": {},
   "outputs": [
    {
     "name": "stdout",
     "output_type": "stream",
     "text": [
      "TfidfVectorizer(tokenizer=<function processing at 0x0000028947984D30>)\n"
     ]
    }
   ],
   "source": [
    "vectorizer = joblib.load(\"tfidfvectorizer.pkl\")\n",
    "print(vectorizer)"
   ]
  },
  {
   "cell_type": "code",
   "execution_count": 5,
   "id": "adopted-mining",
   "metadata": {},
   "outputs": [
    {
     "name": "stdout",
     "output_type": "stream",
     "text": [
      "['benign']\n"
     ]
    }
   ],
   "source": [
    "params = 'https://dzone.com/articles/top-20-git-commands-with-examples'\n",
    "testapi = vectorizer.transform([params])\n",
    "n = p.feature_processing(params)\n",
    "n = sp.sparse.csr_matrix(n)\n",
    "t = hstack([testapi,n])\n",
    "data = rfc.predict(t);\n",
    "print(data)"
   ]
  },
  {
   "cell_type": "code",
   "execution_count": null,
   "id": "compliant-works",
   "metadata": {},
   "outputs": [],
   "source": []
  }
 ],
 "metadata": {
  "kernelspec": {
   "display_name": "Python 3",
   "language": "python",
   "name": "python3"
  },
  "language_info": {
   "codemirror_mode": {
    "name": "ipython",
    "version": 3
   },
   "file_extension": ".py",
   "mimetype": "text/x-python",
   "name": "python",
   "nbconvert_exporter": "python",
   "pygments_lexer": "ipython3",
   "version": "3.8.5"
  },
  "widgets": {
   "state": {},
   "version": "1.1.2"
  }
 },
 "nbformat": 4,
 "nbformat_minor": 5
}
